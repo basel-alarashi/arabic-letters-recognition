{
 "cells": [
  {
   "cell_type": "markdown",
   "metadata": {},
   "source": [
    "1. Import Dependencies"
   ]
  },
  {
   "cell_type": "code",
   "execution_count": 1,
   "metadata": {},
   "outputs": [],
   "source": [
    "import os\n",
    "import random\n",
    "import numpy as np\n",
    "import cv2.cv2 as cv\n",
    "import tensorflow as tf\n",
    "import matplotlib.pyplot as plt"
   ]
  },
  {
   "cell_type": "markdown",
   "metadata": {},
   "source": [
    "2. Loading Data"
   ]
  },
  {
   "cell_type": "code",
   "execution_count": 2,
   "metadata": {},
   "outputs": [],
   "source": [
    "DATADIR = 'Arabic Charecaters/Train Images 13440x32x32'\n",
    "data = []"
   ]
  },
  {
   "cell_type": "code",
   "execution_count": 3,
   "metadata": {},
   "outputs": [],
   "source": [
    "for file in os.listdir(DATADIR):\n",
    "    try:\n",
    "        img = cv.imread(os.path.join(DATADIR, file), 0)\n",
    "        label = int(file.split('_')[-1].split('.')[0]) - 1\n",
    "        data.append((img, label))\n",
    "    except Exception as e:\n",
    "        print(f'Error{e}:\\nin {os.listdir(DATADIR).index(file)}th image!.')\n",
    "\n",
    "random.shuffle(data)"
   ]
  },
  {
   "cell_type": "code",
   "execution_count": 4,
   "metadata": {},
   "outputs": [],
   "source": [
    "X, y = [], []\n",
    "\n",
    "for feature, label in data:\n",
    "    X.append(feature)\n",
    "    y.append(label)"
   ]
  },
  {
   "cell_type": "markdown",
   "metadata": {},
   "source": [
    "3. Normalizing Data"
   ]
  },
  {
   "cell_type": "code",
   "execution_count": 5,
   "metadata": {},
   "outputs": [],
   "source": [
    "X = np.array(X).reshape(-1, 32, 32, 1)\n",
    "X = X / 255.0\n",
    "y = np.array(y)"
   ]
  },
  {
   "cell_type": "markdown",
   "metadata": {},
   "source": [
    "4. Building Model"
   ]
  },
  {
   "cell_type": "code",
   "execution_count": 6,
   "metadata": {},
   "outputs": [
    {
     "name": "stdout",
     "output_type": "stream",
     "text": [
      "Model: \"sequential\"\n",
      "_________________________________________________________________\n",
      " Layer (type)                Output Shape              Param #   \n",
      "=================================================================\n",
      " conv2d (Conv2D)             (None, 30, 30, 32)        320       \n",
      "                                                                 \n",
      " max_pooling2d (MaxPooling2D  (None, 15, 15, 32)       0         \n",
      " )                                                               \n",
      "                                                                 \n",
      " conv2d_1 (Conv2D)           (None, 13, 13, 32)        9248      \n",
      "                                                                 \n",
      " max_pooling2d_1 (MaxPooling  (None, 6, 6, 32)         0         \n",
      " 2D)                                                             \n",
      "                                                                 \n",
      " flatten (Flatten)           (None, 1152)              0         \n",
      "                                                                 \n",
      " dense (Dense)               (None, 128)               147584    \n",
      "                                                                 \n",
      " dense_1 (Dense)             (None, 28)                3612      \n",
      "                                                                 \n",
      "=================================================================\n",
      "Total params: 160,764\n",
      "Trainable params: 160,764\n",
      "Non-trainable params: 0\n",
      "_________________________________________________________________\n"
     ]
    }
   ],
   "source": [
    "model = tf.keras.models.Sequential([\n",
    "    tf.keras.layers.Conv2D(\n",
    "        32, (3, 3), activation='relu', input_shape=X.shape[1:]\n",
    "    ),\n",
    "    tf.keras.layers.MaxPooling2D(pool_size=(2, 2)),\n",
    "    tf.keras.layers.Conv2D(32, (3, 3), activation='relu'),\n",
    "    tf.keras.layers.MaxPooling2D(pool_size=(2, 2)),\n",
    "    tf.keras.layers.Flatten(),\n",
    "    tf.keras.layers.Dense(128, activation='relu'),\n",
    "    tf.keras.layers.Dense(28, activation='softmax')\n",
    "])\n",
    "model.summary()"
   ]
  },
  {
   "cell_type": "code",
   "execution_count": 7,
   "metadata": {},
   "outputs": [],
   "source": [
    "model.compile(loss='sparse_categorical_crossentropy', optimizer='adam', metrics=['accuracy'])"
   ]
  },
  {
   "cell_type": "markdown",
   "metadata": {},
   "source": [
    "5. Training Model"
   ]
  },
  {
   "cell_type": "code",
   "execution_count": 8,
   "metadata": {},
   "outputs": [
    {
     "name": "stdout",
     "output_type": "stream",
     "text": [
      "Epoch 1/6\n",
      "1176/1176 [==============================] - 18s 15ms/step - loss: 1.5104 - accuracy: 0.5345 - val_loss: 0.8256 - val_accuracy: 0.7349\n",
      "Epoch 2/6\n",
      "1176/1176 [==============================] - 16s 13ms/step - loss: 0.6375 - accuracy: 0.7924 - val_loss: 0.6803 - val_accuracy: 0.7803\n",
      "Epoch 3/6\n",
      "1176/1176 [==============================] - 16s 13ms/step - loss: 0.4181 - accuracy: 0.8618 - val_loss: 0.5819 - val_accuracy: 0.8182\n",
      "Epoch 4/6\n",
      "1176/1176 [==============================] - 16s 13ms/step - loss: 0.2969 - accuracy: 0.9033 - val_loss: 0.5151 - val_accuracy: 0.8351\n",
      "Epoch 5/6\n",
      "1176/1176 [==============================] - 16s 14ms/step - loss: 0.2117 - accuracy: 0.9267 - val_loss: 0.4583 - val_accuracy: 0.8574\n",
      "Epoch 6/6\n",
      "1176/1176 [==============================] - 16s 13ms/step - loss: 0.1687 - accuracy: 0.9397 - val_loss: 0.4804 - val_accuracy: 0.8616\n"
     ]
    }
   ],
   "source": [
    "history = model.fit(X, y, epochs=6, batch_size=8, validation_split=0.3)"
   ]
  },
  {
   "cell_type": "markdown",
   "metadata": {},
   "source": [
    "6. Plotting Results"
   ]
  },
  {
   "cell_type": "code",
   "execution_count": 9,
   "metadata": {},
   "outputs": [
    {
     "data": {
      "image/png": "[encoded data removed]",
      "text/plain": [
       "<Figure size 640x480 with 2 Axes>"
      ]
     },
     "metadata": {},
     "output_type": "display_data"
    }
   ],
   "source": [
    "plt.subplot(1, 2, 1)\n",
    "plt.plot(history.history['loss'], 'b', label='Training Loss')\n",
    "plt.plot(history.history['val_loss'], 'r', label='Validation Loss')\n",
    "plt.legend()\n",
    "\n",
    "plt.subplot(1, 2, 2)\n",
    "plt.plot(history.history['accuracy'], 'b', label='Training Accuracy')\n",
    "plt.plot(history.history['val_accuracy'], 'r', label='Validation Accuracy')\n",
    "plt.legend()\n",
    "plt.show()"
   ]
  },
  {
   "cell_type": "markdown",
   "metadata": {},
   "source": [
    "7. Predictions"
   ]
  },
  {
   "cell_type": "code",
   "execution_count": 18,
   "metadata": {},
   "outputs": [
    {
     "name": "stdout",
     "output_type": "stream",
     "text": [
      "id_1901_label_27.png\n",
      "1/1 [==============================] - 0s 73ms/step\n",
      "Prediction: 27\n",
      "Label: 27\n"
     ]
    }
   ],
   "source": [
    "TESTDIR = 'Arabic Charecaters/Test Images 3360x32x32'\n",
    "filename = os.listdir(TESTDIR)[100]\n",
    "print(filename)\n",
    "img = cv.imread(os.path.join(TESTDIR, filename), 0)\n",
    "lbl = int(filename.split('_')[-1].split('.')[0]) - 1\n",
    "\n",
    "img = img.reshape(-1, 32, 32, 1)\n",
    "\n",
    "p = model.predict([img])\n",
    "\n",
    "print(f'Prediction: {np.argmax(p) + 1}')\n",
    "print(f'Label: {lbl + 1}')"
   ]
  },
  {
   "cell_type": "markdown",
   "metadata": {},
   "source": [
    "7. Saving Model"
   ]
  },
  {
   "cell_type": "code",
   "execution_count": 16,
   "metadata": {},
   "outputs": [],
   "source": [
    "model.save('ArabicCharacters.h5')"
   ]
  }
 ],
 "metadata": {
  "kernelspec": {
   "display_name": "venv",
   "language": "python",
   "name": "python3"
  },
  "language_info": {
   "codemirror_mode": {
    "name": "ipython",
    "version": 3
   },
   "file_extension": ".py",
   "mimetype": "text/x-python",
   "name": "python",
   "nbconvert_exporter": "python",
   "pygments_lexer": "ipython3",
   "version": "3.10.6"
  }
 },
 "nbformat": 4,
 "nbformat_minor": 2
}
